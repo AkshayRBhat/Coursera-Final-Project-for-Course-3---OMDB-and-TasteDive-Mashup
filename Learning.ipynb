{
  "nbformat": 4,
  "nbformat_minor": 0,
  "metadata": {
    "colab": {
      "name": "Learning.ipynb",
      "provenance": [],
      "collapsed_sections": [],
      "authorship_tag": "ABX9TyPUWLUgZsC6LRdYDgTL2gqO",
      "include_colab_link": true
    },
    "kernelspec": {
      "name": "python3",
      "display_name": "Python 3"
    }
  },
  "cells": [
    {
      "cell_type": "markdown",
      "metadata": {
        "id": "view-in-github",
        "colab_type": "text"
      },
      "source": [
        "<a href=\"https://colab.research.google.com/github/AkshayRBhat/Coursera-Final-Project-for-Course-3---OMDB-and-TasteDive-Mashup/blob/master/Learning.ipynb\" target=\"_parent\"><img src=\"https://colab.research.google.com/assets/colab-badge.svg\" alt=\"Open In Colab\"/></a>"
      ]
    },
    {
      "cell_type": "code",
      "metadata": {
        "id": "DLjmLDfG4DCM",
        "colab_type": "code",
        "outputId": "83b9b2cc-2557-4281-c661-4d3723b16dbd",
        "colab": {
          "base_uri": "https://localhost:8080/",
          "height": 34
        }
      },
      "source": [
        "print(\"hello\")"
      ],
      "execution_count": 0,
      "outputs": [
        {
          "output_type": "stream",
          "text": [
            "hello\n"
          ],
          "name": "stdout"
        }
      ]
    },
    {
      "cell_type": "markdown",
      "metadata": {
        "id": "rWI3xarkCYTN",
        "colab_type": "text"
      },
      "source": [
        "A Tamagotchi Game\n",
        "There are also a lot of interesting ways to put user-defined classes to use that don’t involve data from the internet. Let’s pull all these mechanics together in a slightly more interesting way than we got with the Point class. Remember Tamagotchis, the little electronic pets? As time passed, they would get hungry or bored. You had to clean up after them or they would get sick. And you did it all with a few buttons on the device.\n",
        "\n",
        "We are going to make a simplified, text-based version of that. In your problem set and in the chapter on Inheritance <chap_inheritance> we will extend this further.\n",
        "\n",
        "First, let’s start with a class Pet. Each instance of the class will be one electronic pet for the user to take care of. Each instance will have a current state, consisting of three instance variables:\n",
        "hunger, an integer\n",
        "\n",
        "boredom, an integer\n",
        "\n",
        "sounds, a list of strings, each a word that the pet has been taught to say\n",
        "\n",
        "In the __init__ method, hunger and boredom are initialized to random values between 0 and the threshold for being hungry or bored. The sounds instance variable is initialized to be a copy of the class variable with the same name. The reason we make a copy of the list is that we will perform destructive operations (appending new sounds to the list). If we didn’t make a copy, then those destructive operations would affect the list that the class variable points to, and thus teaching a sound to any of the pets would teach it to all instances of the class!\n",
        "\n",
        "There is a clock_tick method which just increments the boredom and hunger instance variables, simulating the idea that as time passes, the pet gets more bored and hungry.\n",
        "\n",
        "The __str__ method produces a string representation of the pet’s current state, notably whether it is bored or hungry or whether it is happy. It’s bored if the boredom instance variable is larger than the threshold, which is set as a class variable.\n",
        "\n",
        "To relieve boredom, the pet owner can either teach the pet a new word, using the teach() method, or interact with the pet, using the hi() method. In response to teach(), the pet adds the new word to its list of words. In response to the hi() method, it prints out one of the words it knows, randomly picking one from its list of known words. Both hi() and teach() cause an invocation of the reduce_boredom() method. It decrements the boredom state by an amount that it reads from the class variable boredom_decrement. The boredom state can never go below 0.\n",
        "\n",
        "To relieve hunger, we call the feed() method.\n",
        "\n"
      ]
    },
    {
      "cell_type": "code",
      "metadata": {
        "id": "t3426a0v5Twz",
        "colab_type": "code",
        "colab": {}
      },
      "source": [
        "from random import randrange\n",
        "\n",
        "class Pet():\n",
        "    boredom_decrement = 4\n",
        "    hunger_decrement = 6\n",
        "    boredom_threshold = 5\n",
        "    hunger_threshold = 10\n",
        "    sounds = ['Mrrp']\n",
        "    def __init__(self, name = \"Kitty\"):\n",
        "        self.name = name\n",
        "        self.hunger = randrange(self.hunger_threshold)\n",
        "        self.boredom = randrange(self.boredom_threshold)\n",
        "        self.sounds = self.sounds[:]  # copy the class attribute, so that when we make changes to it, we won't affect the other Pets in the class\n",
        "\n",
        "    def clock_tick(self):\n",
        "        self.boredom += 1\n",
        "        self.hunger += 1\n",
        "\n",
        "    def mood(self):\n",
        "        if self.hunger <= self.hunger_threshold and self.boredom <= self.boredom_threshold:\n",
        "            return \"happy\"\n",
        "        elif self.hunger > self.hunger_threshold:\n",
        "            return \"hungry\"\n",
        "        else:\n",
        "            return \"bored\"\n",
        "\n",
        "    def __str__(self):\n",
        "        state = \"     I'm \" + self.name + \". \"\n",
        "        state += \" I feel \" + self.mood() + \". \"\n",
        "        # state += \"Hunger {} Boredom {} Words {}\".format(self.hunger, self.boredom, self.sounds)\n",
        "        return state\n",
        "\n",
        "    def hi(self):\n",
        "        print(self.sounds[randrange(len(self.sounds))])\n",
        "        self.reduce_boredom()\n",
        "\n",
        "    def teach(self, word):\n",
        "        self.sounds.append(word)\n",
        "        self.reduce_boredom()\n",
        "\n",
        "    def feed(self):\n",
        "        self.reduce_hunger()\n",
        "\n",
        "    def reduce_hunger(self):\n",
        "        self.hunger = max(0, self.hunger - self.hunger_decrement)\n",
        "\n",
        "    def reduce_boredom(self):\n",
        "        self.boredom = max(0, self.boredom - self.boredom_decrement)\n"
      ],
      "execution_count": 0,
      "outputs": []
    },
    {
      "cell_type": "markdown",
      "metadata": {
        "id": "eQRKZl5FCpVR",
        "colab_type": "text"
      },
      "source": [
        "Let’s try making a pet and playing with it a little. Add some of your own commands, too, and keep printing p1 to see what the effects are. If you want to directly inspect the state, try printing p1.boredom or p1.hunger.\n",
        "\n"
      ]
    },
    {
      "cell_type": "code",
      "metadata": {
        "id": "MuiMr4zHCttC",
        "colab_type": "code",
        "colab": {}
      },
      "source": [
        "p1 = Pet(\"Fido\")\n",
        "print(p1)\n",
        "for i in range(10):\n",
        "    p1.clock_tick()\n",
        "    print(p1)\n",
        "p1.feed()\n",
        "p1.hi()\n",
        "p1.teach(\"Boo\")\n",
        "for i in range(10):\n",
        "    p1.hi()\n",
        "print(p1)\n"
      ],
      "execution_count": 0,
      "outputs": []
    },
    {
      "cell_type": "markdown",
      "metadata": {
        "id": "v1O18YR5CwsZ",
        "colab_type": "text"
      },
      "source": [
        "That’s all great if you want to interact with the pet by writing python code. Let’s make a game that non-programmers can play.\n",
        "\n",
        "We will use the Listener Loop <chap_listener> pattern. At each iteration, we will display a text prompt reminding the user of what commands are available.\n",
        "\n",
        "The user will have a list of pets, each with a name. The user can issue a command to adopt a new pet, which will create a new instance of Pet. Or the user can interact with an existing pet, with a Greet, Teach, or Feed command.\n",
        "\n",
        "No matter what the user does, with each command entered, the clock ticks for all their pets. Watch out, if you have too many pets, you won’t be able to keep them all satisfied!"
      ]
    },
    {
      "cell_type": "code",
      "metadata": {
        "id": "q_EeAezpC066",
        "colab_type": "code",
        "colab": {
          "base_uri": "https://localhost:8080/",
          "height": 231
        },
        "outputId": "51f481ee-0a5f-47b1-bed0-112b9fd77d8f"
      },
      "source": [
        "import sys\n",
        "sys.setExecutionLimit(60000)\n",
        "\n",
        "def whichone(petlist, name):\n",
        "    for pet in petlist:\n",
        "        if pet.name == name:\n",
        "            return pet\n",
        "    return None # no pet matched\n",
        "\n",
        "def play():\n",
        "    animals = []\n",
        "\n",
        "    option = \"\"\n",
        "    base_prompt = \"\"\"\n",
        "        Quit\n",
        "        Adopt <petname_with_no_spaces_please>\n",
        "        Greet <petname>\n",
        "        Teach <petname> <word>\n",
        "        Feed <petname>\n",
        "\n",
        "        Choice: \"\"\"\n",
        "    feedback = \"\"\n",
        "    while True:\n",
        "        action = input(feedback + \"\\n\" + base_prompt)\n",
        "        feedback = \"\"\n",
        "        words = action.split()\n",
        "        if len(words) > 0:\n",
        "            command = words[0]\n",
        "        else:\n",
        "            command = None\n",
        "        if command == \"Quit\":\n",
        "            print(\"Exiting...\")\n",
        "            return\n",
        "        elif command == \"Adopt\" and len(words) > 1:\n",
        "            if whichone(animals, words[1]):\n",
        "                feedback += \"You already have a pet with that name\\n\"\n",
        "            else:\n",
        "                animals.append(Pet(words[1]))\n",
        "        elif command == \"Greet\" and len(words) > 1:\n",
        "            pet = whichone(animals, words[1])\n",
        "            if not pet:\n",
        "                feedback += \"I didn't recognize that pet name. Please try again.\\n\"\n",
        "                print()\n",
        "            else:\n",
        "                pet.hi()\n",
        "        elif command == \"Teach\" and len(words) > 2:\n",
        "            pet = whichone(animals, words[1])\n",
        "            if not pet:\n",
        "                feedback += \"I didn't recognize that pet name. Please try again.\"\n",
        "            else:\n",
        "                pet.teach(words[2])\n",
        "        elif command == \"Feed\" and len(words) > 1:\n",
        "            pet = whichone(animals, words[1])\n",
        "            if not pet:\n",
        "                feedback += \"I didn't recognize that pet name. Please try again.\"\n",
        "            else:\n",
        "                pet.feed()\n",
        "        else:\n",
        "            feedback+= \"I didn't understand that. Please try again.\"\n",
        "\n",
        "        for pet in animals:\n",
        "            pet.clock_tick()\n",
        "            feedback += \"\\n\" + pet.__str__()\n",
        "\n",
        "\n",
        "\n",
        "play()\n"
      ],
      "execution_count": 1,
      "outputs": [
        {
          "output_type": "error",
          "ename": "AttributeError",
          "evalue": "ignored",
          "traceback": [
            "\u001b[0;31m---------------------------------------------------------------------------\u001b[0m",
            "\u001b[0;31mAttributeError\u001b[0m                            Traceback (most recent call last)",
            "\u001b[0;32m<ipython-input-1-369c9ce9fb84>\u001b[0m in \u001b[0;36m<module>\u001b[0;34m()\u001b[0m\n\u001b[1;32m      1\u001b[0m \u001b[0;32mimport\u001b[0m \u001b[0msys\u001b[0m\u001b[0;34m\u001b[0m\u001b[0;34m\u001b[0m\u001b[0m\n\u001b[0;32m----> 2\u001b[0;31m \u001b[0msys\u001b[0m\u001b[0;34m.\u001b[0m\u001b[0msetExecutionLimit\u001b[0m\u001b[0;34m(\u001b[0m\u001b[0;36m60000\u001b[0m\u001b[0;34m)\u001b[0m\u001b[0;34m\u001b[0m\u001b[0;34m\u001b[0m\u001b[0m\n\u001b[0m\u001b[1;32m      3\u001b[0m \u001b[0;34m\u001b[0m\u001b[0m\n\u001b[1;32m      4\u001b[0m \u001b[0;32mdef\u001b[0m \u001b[0mwhichone\u001b[0m\u001b[0;34m(\u001b[0m\u001b[0mpetlist\u001b[0m\u001b[0;34m,\u001b[0m \u001b[0mname\u001b[0m\u001b[0;34m)\u001b[0m\u001b[0;34m:\u001b[0m\u001b[0;34m\u001b[0m\u001b[0;34m\u001b[0m\u001b[0m\n\u001b[1;32m      5\u001b[0m     \u001b[0;32mfor\u001b[0m \u001b[0mpet\u001b[0m \u001b[0;32min\u001b[0m \u001b[0mpetlist\u001b[0m\u001b[0;34m:\u001b[0m\u001b[0;34m\u001b[0m\u001b[0;34m\u001b[0m\u001b[0m\n",
            "\u001b[0;31mAttributeError\u001b[0m: module 'sys' has no attribute 'setExecutionLimit'"
          ]
        }
      ]
    }
  ]
}